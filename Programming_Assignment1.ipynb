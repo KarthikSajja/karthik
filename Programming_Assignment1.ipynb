{
  "nbformat": 4,
  "nbformat_minor": 0,
  "metadata": {
    "colab": {
      "name": "Programming_Assignment1.ipynb",
      "provenance": []
    },
    "kernelspec": {
      "name": "python3",
      "display_name": "Python 3"
    },
    "language_info": {
      "name": "python"
    }
  },
  "cells": [
    {
      "cell_type": "markdown",
      "source": [
        "1.Write a Python program to print \"Hello Python\"?"
      ],
      "metadata": {
        "id": "cBLL8B2nIgAd"
      }
    },
    {
      "cell_type": "code",
      "source": [
        "a='\"Hello Python\"'\n",
        "print(a)"
      ],
      "metadata": {
        "colab": {
          "base_uri": "https://localhost:8080/"
        },
        "id": "9myMubIXIDsl",
        "outputId": "c563584b-bd7e-4e10-cbbc-3043193a3063"
      },
      "execution_count": 4,
      "outputs": [
        {
          "output_type": "stream",
          "name": "stdout",
          "text": [
            "\"Hello Python\"\n"
          ]
        }
      ]
    },
    {
      "cell_type": "code",
      "source": [
        ""
      ],
      "metadata": {
        "id": "Rh_nuJHOIDuA"
      },
      "execution_count": null,
      "outputs": []
    },
    {
      "cell_type": "markdown",
      "source": [
        "2.Write a Python program to do arithmetical operations addition and division.?"
      ],
      "metadata": {
        "id": "vLJkM8NPIQqn"
      }
    },
    {
      "cell_type": "code",
      "source": [
        "a=int(input())\n",
        "b=int(input())\n",
        "c=a+b\n",
        "print(c)\n",
        "c=a-b\n",
        "print(c)\n",
        "c=a*b\n",
        "print(c)\n",
        "c=a/b\n",
        "print(c)\n",
        "c=a%b\n",
        "print(c)\n",
        "c=a//b\n",
        "print(c)\n"
      ],
      "metadata": {
        "colab": {
          "base_uri": "https://localhost:8080/"
        },
        "id": "ti8bi-ohIdNB",
        "outputId": "6c238456-850a-4317-98bf-284718087094"
      },
      "execution_count": 5,
      "outputs": [
        {
          "output_type": "stream",
          "name": "stdout",
          "text": [
            "45\n",
            "56\n",
            "101\n",
            "-11\n",
            "2520\n",
            "0.8035714285714286\n",
            "45\n",
            "0\n"
          ]
        }
      ]
    },
    {
      "cell_type": "markdown",
      "source": [
        "3.Write a Python program to find the area of a triangle?"
      ],
      "metadata": {
        "id": "gDfQwuzcIQsN"
      }
    },
    {
      "cell_type": "code",
      "source": [
        "b=eval(input())\n",
        "h=eval(input())\n",
        "c=b*h\n",
        "area=0.5*c\n",
        "print(area)"
      ],
      "metadata": {
        "colab": {
          "base_uri": "https://localhost:8080/"
        },
        "id": "s1FVln8BJJQE",
        "outputId": "48c34d1a-4eb6-4366-a0fa-f7d7959afc14"
      },
      "execution_count": 7,
      "outputs": [
        {
          "output_type": "stream",
          "name": "stdout",
          "text": [
            "4\n",
            "6\n",
            "12.0\n"
          ]
        }
      ]
    },
    {
      "cell_type": "code",
      "source": [
        ""
      ],
      "metadata": {
        "id": "GHBab2b4JZAQ"
      },
      "execution_count": null,
      "outputs": []
    },
    {
      "cell_type": "markdown",
      "source": [
        "4.Write a Python program to swap two variables?"
      ],
      "metadata": {
        "id": "opDCbANfJo4h"
      }
    },
    {
      "cell_type": "code",
      "source": [
        "a=eval(input())\n",
        "b=eval(input())\n",
        "print('Before Swapping')\n",
        "print(\"a=\",a)\n",
        "print(\"b=\",b)\n",
        "c=a\n",
        "a=b\n",
        "b=c\n",
        "print('After Swapping')\n",
        "print(\"a=\",a)\n",
        "print(\"b=\",b)\n"
      ],
      "metadata": {
        "colab": {
          "base_uri": "https://localhost:8080/"
        },
        "id": "Cc2cyY-2JtZ5",
        "outputId": "50919f9f-971f-4ec7-e9a1-257cf80ade1f"
      },
      "execution_count": 14,
      "outputs": [
        {
          "output_type": "stream",
          "name": "stdout",
          "text": [
            "909078.900\n",
            "876.56\n",
            "Before Swapping\n",
            "a= 909078.9\n",
            "b= 876.56\n",
            "After Swapping\n",
            "a= 876.56\n",
            "b= 909078.9\n"
          ]
        }
      ]
    },
    {
      "cell_type": "markdown",
      "source": [
        "5.Write a Python program to generate a random number?"
      ],
      "metadata": {
        "id": "HNmo4S_9Jpv9"
      }
    },
    {
      "cell_type": "code",
      "source": [
        "import random\n",
        "Ra = random.random()\n",
        "print(\"Random Number =\", Ra)"
      ],
      "metadata": {
        "colab": {
          "base_uri": "https://localhost:8080/"
        },
        "id": "QoDxeVnmL4pa",
        "outputId": "09e945e2-401e-466f-a850-9aa5d8f5b203"
      },
      "execution_count": 15,
      "outputs": [
        {
          "output_type": "stream",
          "name": "stdout",
          "text": [
            "Random Number = 0.47132174095488333\n"
          ]
        }
      ]
    },
    {
      "cell_type": "code",
      "source": [
        "import random\n",
        "print(\"Enter the Range: \")\n",
        "start = eval(input())\n",
        "end = eval(input())\n",
        "\n",
        "Ra= random.randint(start, end)\n",
        "print(\"\\nRandom Number =\", Ra)"
      ],
      "metadata": {
        "colab": {
          "base_uri": "https://localhost:8080/"
        },
        "id": "AfIXDFeqMJxX",
        "outputId": "8aaa851e-561d-4039-d6b4-239b65e634da"
      },
      "execution_count": 18,
      "outputs": [
        {
          "output_type": "stream",
          "name": "stdout",
          "text": [
            "Enter the Range: \n",
            "56\n",
            "78\n",
            "\n",
            "Random Number = 61\n"
          ]
        }
      ]
    },
    {
      "cell_type": "code",
      "source": [
        ""
      ],
      "metadata": {
        "id": "pS4OrF_0MJyX"
      },
      "execution_count": null,
      "outputs": []
    }
  ]
}